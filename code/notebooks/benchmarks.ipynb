{
 "cells": [
  {
   "cell_type": "code",
   "execution_count": 1,
   "id": "9327ce4f",
   "metadata": {},
   "outputs": [],
   "source": [
    "include(\"../Sandpile.jl\")\n",
    "include(\"../old/Sandpile64.jl\")\n",
    "include(\"../old/SandpileAbstract.jl\")\n",
    "using .Sandpile\n",
    "using .Sandpile64\n",
    "using .SandpileAbstract\n",
    "using BenchmarkTools"
   ]
  },
  {
   "cell_type": "markdown",
   "id": "18f8d0e7",
   "metadata": {},
   "source": [
    "Need to use a smaller grid and less grains for benchmarking"
   ]
  },
  {
   "cell_type": "code",
   "execution_count": 2,
   "id": "a6ab6774",
   "metadata": {},
   "outputs": [],
   "source": [
    "x, y = 50, 50; # Dimensions of grid\n",
    "N = 1000; # Number of grains to be added\n",
    "fᵪ = 4; # Critical value for sandpile model"
   ]
  },
  {
   "cell_type": "markdown",
   "id": "04c1fd0f",
   "metadata": {},
   "source": [
    "## Benchmarking"
   ]
  },
  {
   "cell_type": "code",
   "execution_count": 3,
   "id": "9f4ddf39",
   "metadata": {
    "scrolled": true
   },
   "outputs": [
    {
     "data": {
      "text/plain": [
       "BenchmarkTools.Trial: 952 samples with 1 evaluation.\n",
       " Range \u001b[90m(\u001b[39m\u001b[36m\u001b[1mmin\u001b[22m\u001b[39m … \u001b[35mmax\u001b[39m\u001b[90m):  \u001b[39m\u001b[36m\u001b[1m3.511 ms\u001b[22m\u001b[39m … \u001b[35m26.314 ms\u001b[39m  \u001b[90m┊\u001b[39m GC \u001b[90m(\u001b[39mmin … max\u001b[90m): \u001b[39m 0.00% … 70.51%\n",
       " Time  \u001b[90m(\u001b[39m\u001b[34m\u001b[1mmedian\u001b[22m\u001b[39m\u001b[90m):     \u001b[39m\u001b[34m\u001b[1m3.925 ms              \u001b[22m\u001b[39m\u001b[90m┊\u001b[39m GC \u001b[90m(\u001b[39mmedian\u001b[90m):    \u001b[39m 0.00%\n",
       " Time  \u001b[90m(\u001b[39m\u001b[32m\u001b[1mmean\u001b[22m\u001b[39m ± \u001b[32mσ\u001b[39m\u001b[90m):   \u001b[39m\u001b[32m\u001b[1m5.230 ms\u001b[22m\u001b[39m ± \u001b[32m 3.364 ms\u001b[39m  \u001b[90m┊\u001b[39m GC \u001b[90m(\u001b[39mmean ± σ\u001b[90m):  \u001b[39m21.01% ± 21.81%\n",
       "\n",
       "  \u001b[39m▄\u001b[39m█\u001b[34m▅\u001b[39m\u001b[39m▃\u001b[39m▂\u001b[39m▂\u001b[39m \u001b[32m \u001b[39m\u001b[39m \u001b[39m \u001b[39m \u001b[39m \u001b[39m \u001b[39m \u001b[39m \u001b[39m \u001b[39m \u001b[39m \u001b[39m \u001b[39m \u001b[39m \u001b[39m \u001b[39m \u001b[39m \u001b[39m \u001b[39m \u001b[39m \u001b[39m \u001b[39m \u001b[39m \u001b[39m \u001b[39m \u001b[39m \u001b[39m \u001b[39m \u001b[39m \u001b[39m \u001b[39m \u001b[39m \u001b[39m \u001b[39m \u001b[39m \u001b[39m \u001b[39m \u001b[39m \u001b[39m \u001b[39m \u001b[39m \u001b[39m \u001b[39m \u001b[39m \u001b[39m \u001b[39m \u001b[39m \u001b[39m \u001b[39m \u001b[39m \u001b[39m \u001b[39m \u001b[39m \n",
       "  \u001b[39m█\u001b[39m█\u001b[34m█\u001b[39m\u001b[39m█\u001b[39m█\u001b[39m█\u001b[39m█\u001b[32m▇\u001b[39m\u001b[39m▇\u001b[39m█\u001b[39m█\u001b[39m█\u001b[39m▅\u001b[39m▅\u001b[39m▄\u001b[39m▁\u001b[39m▁\u001b[39m▄\u001b[39m▁\u001b[39m▁\u001b[39m▁\u001b[39m▁\u001b[39m▁\u001b[39m▁\u001b[39m▁\u001b[39m▁\u001b[39m▁\u001b[39m▁\u001b[39m▁\u001b[39m▁\u001b[39m▅\u001b[39m▅\u001b[39m▄\u001b[39m▄\u001b[39m▅\u001b[39m▅\u001b[39m▁\u001b[39m▆\u001b[39m▆\u001b[39m▇\u001b[39m▆\u001b[39m▆\u001b[39m▆\u001b[39m▆\u001b[39m▅\u001b[39m▅\u001b[39m▅\u001b[39m▆\u001b[39m▅\u001b[39m▆\u001b[39m▅\u001b[39m▆\u001b[39m▆\u001b[39m▄\u001b[39m▅\u001b[39m▄\u001b[39m▆\u001b[39m▄\u001b[39m \u001b[39m▇\n",
       "  3.51 ms\u001b[90m      \u001b[39m\u001b[90mHistogram: \u001b[39m\u001b[90m\u001b[1mlog(\u001b[22m\u001b[39m\u001b[90mfrequency\u001b[39m\u001b[90m\u001b[1m)\u001b[22m\u001b[39m\u001b[90m by time\u001b[39m     17.3 ms \u001b[0m\u001b[1m<\u001b[22m\n",
       "\n",
       " Memory estimate\u001b[90m: \u001b[39m\u001b[33m4.67 MiB\u001b[39m, allocs estimate\u001b[90m: \u001b[39m\u001b[33m7007\u001b[39m."
      ]
     },
     "execution_count": 3,
     "metadata": {},
     "output_type": "execute_result"
    }
   ],
   "source": [
    "@benchmark run_sandpileAbstract!(sandpile_initAbstract(x, y, \"zero\"), N)"
   ]
  },
  {
   "cell_type": "code",
   "execution_count": 4,
   "id": "5cd3b9fb",
   "metadata": {},
   "outputs": [
    {
     "data": {
      "text/plain": [
       "BenchmarkTools.Trial: 1092 samples with 1 evaluation.\n",
       " Range \u001b[90m(\u001b[39m\u001b[36m\u001b[1mmin\u001b[22m\u001b[39m … \u001b[35mmax\u001b[39m\u001b[90m):  \u001b[39m\u001b[36m\u001b[1m2.902 ms\u001b[22m\u001b[39m … \u001b[35m21.814 ms\u001b[39m  \u001b[90m┊\u001b[39m GC \u001b[90m(\u001b[39mmin … max\u001b[90m): \u001b[39m 0.00% … 82.51%\n",
       " Time  \u001b[90m(\u001b[39m\u001b[34m\u001b[1mmedian\u001b[22m\u001b[39m\u001b[90m):     \u001b[39m\u001b[34m\u001b[1m3.338 ms              \u001b[22m\u001b[39m\u001b[90m┊\u001b[39m GC \u001b[90m(\u001b[39mmedian\u001b[90m):    \u001b[39m 0.00%\n",
       " Time  \u001b[90m(\u001b[39m\u001b[32m\u001b[1mmean\u001b[22m\u001b[39m ± \u001b[32mσ\u001b[39m\u001b[90m):   \u001b[39m\u001b[32m\u001b[1m4.570 ms\u001b[22m\u001b[39m ± \u001b[32m 3.267 ms\u001b[39m  \u001b[90m┊\u001b[39m GC \u001b[90m(\u001b[39mmean ± σ\u001b[90m):  \u001b[39m23.50% ± 22.75%\n",
       "\n",
       "  \u001b[39m▄\u001b[39m█\u001b[34m▆\u001b[39m\u001b[39m▃\u001b[39m \u001b[39m▁\u001b[39m \u001b[32m \u001b[39m\u001b[39m \u001b[39m \u001b[39m \u001b[39m \u001b[39m \u001b[39m \u001b[39m \u001b[39m \u001b[39m \u001b[39m \u001b[39m \u001b[39m \u001b[39m \u001b[39m \u001b[39m \u001b[39m \u001b[39m \u001b[39m \u001b[39m \u001b[39m \u001b[39m \u001b[39m \u001b[39m \u001b[39m \u001b[39m \u001b[39m \u001b[39m \u001b[39m \u001b[39m \u001b[39m \u001b[39m \u001b[39m \u001b[39m \u001b[39m \u001b[39m \u001b[39m \u001b[39m \u001b[39m \u001b[39m \u001b[39m \u001b[39m \u001b[39m \u001b[39m \u001b[39m \u001b[39m \u001b[39m \u001b[39m \u001b[39m \u001b[39m \u001b[39m \u001b[39m \u001b[39m \n",
       "  \u001b[39m█\u001b[39m█\u001b[34m█\u001b[39m\u001b[39m█\u001b[39m█\u001b[39m█\u001b[39m█\u001b[32m▇\u001b[39m\u001b[39m█\u001b[39m▆\u001b[39m▆\u001b[39m█\u001b[39m▆\u001b[39m▄\u001b[39m▄\u001b[39m▅\u001b[39m▄\u001b[39m▄\u001b[39m▄\u001b[39m▁\u001b[39m▁\u001b[39m▁\u001b[39m▁\u001b[39m▁\u001b[39m▁\u001b[39m▁\u001b[39m▄\u001b[39m▄\u001b[39m▁\u001b[39m▄\u001b[39m▁\u001b[39m▆\u001b[39m▄\u001b[39m▆\u001b[39m▄\u001b[39m▄\u001b[39m▅\u001b[39m▆\u001b[39m▆\u001b[39m▅\u001b[39m▆\u001b[39m▇\u001b[39m▆\u001b[39m▆\u001b[39m▆\u001b[39m▄\u001b[39m▆\u001b[39m▆\u001b[39m▆\u001b[39m▆\u001b[39m▅\u001b[39m▅\u001b[39m▅\u001b[39m▆\u001b[39m▄\u001b[39m▄\u001b[39m▄\u001b[39m▆\u001b[39m \u001b[39m▇\n",
       "  2.9 ms\u001b[90m       \u001b[39m\u001b[90mHistogram: \u001b[39m\u001b[90m\u001b[1mlog(\u001b[22m\u001b[39m\u001b[90mfrequency\u001b[39m\u001b[90m\u001b[1m)\u001b[22m\u001b[39m\u001b[90m by time\u001b[39m     16.4 ms \u001b[0m\u001b[1m<\u001b[22m\n",
       "\n",
       " Memory estimate\u001b[90m: \u001b[39m\u001b[33m4.67 MiB\u001b[39m, allocs estimate\u001b[90m: \u001b[39m\u001b[33m7007\u001b[39m."
      ]
     },
     "execution_count": 4,
     "metadata": {},
     "output_type": "execute_result"
    }
   ],
   "source": [
    "@benchmark run_sandpile64!(sandpile_init64(x, y, \"zero\"), N)"
   ]
  },
  {
   "cell_type": "code",
   "execution_count": 5,
   "id": "c3b1cc51",
   "metadata": {},
   "outputs": [
    {
     "data": {
      "text/plain": [
       "BenchmarkTools.Trial: 1105 samples with 1 evaluation.\n",
       " Range \u001b[90m(\u001b[39m\u001b[36m\u001b[1mmin\u001b[22m\u001b[39m … \u001b[35mmax\u001b[39m\u001b[90m):  \u001b[39m\u001b[36m\u001b[1m2.918 ms\u001b[22m\u001b[39m … \u001b[35m19.102 ms\u001b[39m  \u001b[90m┊\u001b[39m GC \u001b[90m(\u001b[39mmin … max\u001b[90m): \u001b[39m 0.00% … 77.52%\n",
       " Time  \u001b[90m(\u001b[39m\u001b[34m\u001b[1mmedian\u001b[22m\u001b[39m\u001b[90m):     \u001b[39m\u001b[34m\u001b[1m3.321 ms              \u001b[22m\u001b[39m\u001b[90m┊\u001b[39m GC \u001b[90m(\u001b[39mmedian\u001b[90m):    \u001b[39m 0.00%\n",
       " Time  \u001b[90m(\u001b[39m\u001b[32m\u001b[1mmean\u001b[22m\u001b[39m ± \u001b[32mσ\u001b[39m\u001b[90m):   \u001b[39m\u001b[32m\u001b[1m4.510 ms\u001b[22m\u001b[39m ± \u001b[32m 3.107 ms\u001b[39m  \u001b[90m┊\u001b[39m GC \u001b[90m(\u001b[39mmean ± σ\u001b[90m):  \u001b[39m22.72% ± 22.65%\n",
       "\n",
       "  \u001b[39m▄\u001b[39m█\u001b[34m▆\u001b[39m\u001b[39m▄\u001b[39m▁\u001b[39m▁\u001b[39m \u001b[39m \u001b[32m \u001b[39m\u001b[39m \u001b[39m \u001b[39m \u001b[39m \u001b[39m \u001b[39m \u001b[39m \u001b[39m \u001b[39m \u001b[39m \u001b[39m \u001b[39m \u001b[39m \u001b[39m \u001b[39m \u001b[39m \u001b[39m \u001b[39m \u001b[39m \u001b[39m \u001b[39m \u001b[39m \u001b[39m \u001b[39m \u001b[39m \u001b[39m \u001b[39m \u001b[39m \u001b[39m \u001b[39m \u001b[39m \u001b[39m \u001b[39m \u001b[39m \u001b[39m \u001b[39m \u001b[39m \u001b[39m \u001b[39m \u001b[39m \u001b[39m \u001b[39m \u001b[39m \u001b[39m \u001b[39m \u001b[39m \u001b[39m \u001b[39m \u001b[39m \u001b[39m \u001b[39m \n",
       "  \u001b[39m█\u001b[39m█\u001b[34m█\u001b[39m\u001b[39m█\u001b[39m█\u001b[39m█\u001b[39m▇\u001b[39m▇\u001b[32m▇\u001b[39m\u001b[39m▅\u001b[39m▄\u001b[39m▆\u001b[39m▆\u001b[39m▄\u001b[39m▄\u001b[39m▄\u001b[39m▆\u001b[39m▅\u001b[39m▅\u001b[39m▅\u001b[39m▁\u001b[39m▆\u001b[39m▁\u001b[39m▄\u001b[39m▁\u001b[39m▁\u001b[39m▁\u001b[39m▁\u001b[39m▁\u001b[39m▄\u001b[39m▄\u001b[39m▅\u001b[39m▄\u001b[39m▅\u001b[39m▄\u001b[39m▄\u001b[39m▅\u001b[39m▆\u001b[39m▆\u001b[39m▄\u001b[39m▄\u001b[39m▁\u001b[39m▄\u001b[39m▅\u001b[39m▆\u001b[39m▇\u001b[39m▇\u001b[39m▅\u001b[39m▆\u001b[39m▆\u001b[39m▆\u001b[39m▆\u001b[39m▆\u001b[39m▇\u001b[39m▆\u001b[39m▅\u001b[39m▇\u001b[39m▇\u001b[39m \u001b[39m█\n",
       "  2.92 ms\u001b[90m      \u001b[39m\u001b[90mHistogram: \u001b[39m\u001b[90m\u001b[1mlog(\u001b[22m\u001b[39m\u001b[90mfrequency\u001b[39m\u001b[90m\u001b[1m)\u001b[22m\u001b[39m\u001b[90m by time\u001b[39m       15 ms \u001b[0m\u001b[1m<\u001b[22m\n",
       "\n",
       " Memory estimate\u001b[90m: \u001b[39m\u001b[33m4.65 MiB\u001b[39m, allocs estimate\u001b[90m: \u001b[39m\u001b[33m7006\u001b[39m."
      ]
     },
     "execution_count": 5,
     "metadata": {},
     "output_type": "execute_result"
    }
   ],
   "source": [
    "@benchmark run_sandpile!(sandpile_init(x, y, \"zero\"), N)"
   ]
  },
  {
   "cell_type": "code",
   "execution_count": 6,
   "id": "4cdc65ee",
   "metadata": {},
   "outputs": [
    {
     "data": {
      "text/plain": [
       "BenchmarkTools.Trial: 220 samples with 1 evaluation.\n",
       " Range \u001b[90m(\u001b[39m\u001b[36m\u001b[1mmin\u001b[22m\u001b[39m … \u001b[35mmax\u001b[39m\u001b[90m):  \u001b[39m\u001b[36m\u001b[1m14.668 ms\u001b[22m\u001b[39m … \u001b[35m44.523 ms\u001b[39m  \u001b[90m┊\u001b[39m GC \u001b[90m(\u001b[39mmin … max\u001b[90m): \u001b[39m 0.00% … 23.23%\n",
       " Time  \u001b[90m(\u001b[39m\u001b[34m\u001b[1mmedian\u001b[22m\u001b[39m\u001b[90m):     \u001b[39m\u001b[34m\u001b[1m20.909 ms              \u001b[22m\u001b[39m\u001b[90m┊\u001b[39m GC \u001b[90m(\u001b[39mmedian\u001b[90m):    \u001b[39m 0.00%\n",
       " Time  \u001b[90m(\u001b[39m\u001b[32m\u001b[1mmean\u001b[22m\u001b[39m ± \u001b[32mσ\u001b[39m\u001b[90m):   \u001b[39m\u001b[32m\u001b[1m22.776 ms\u001b[22m\u001b[39m ± \u001b[32m 5.587 ms\u001b[39m  \u001b[90m┊\u001b[39m GC \u001b[90m(\u001b[39mmean ± σ\u001b[90m):  \u001b[39m14.15% ± 15.70%\n",
       "\n",
       "  \u001b[39m \u001b[39m \u001b[39m \u001b[39m \u001b[39m \u001b[39m▁\u001b[39m▃\u001b[39m█\u001b[39m▄\u001b[39m█\u001b[39m█\u001b[39m \u001b[39m▃\u001b[39m▇\u001b[39m▁\u001b[39m \u001b[39m▁\u001b[34m▁\u001b[39m\u001b[39m \u001b[39m \u001b[39m \u001b[39m \u001b[32m \u001b[39m\u001b[39m \u001b[39m \u001b[39m \u001b[39m \u001b[39m \u001b[39m \u001b[39m \u001b[39m \u001b[39m \u001b[39m \u001b[39m \u001b[39m \u001b[39m \u001b[39m \u001b[39m \u001b[39m▂\u001b[39m▁\u001b[39m▁\u001b[39m \u001b[39m \u001b[39m \u001b[39m \u001b[39m \u001b[39m \u001b[39m \u001b[39m \u001b[39m \u001b[39m \u001b[39m \u001b[39m \u001b[39m \u001b[39m \u001b[39m \u001b[39m \u001b[39m \u001b[39m \u001b[39m \u001b[39m \n",
       "  \u001b[39m▄\u001b[39m▄\u001b[39m▇\u001b[39m▄\u001b[39m▇\u001b[39m█\u001b[39m█\u001b[39m█\u001b[39m█\u001b[39m█\u001b[39m█\u001b[39m█\u001b[39m█\u001b[39m█\u001b[39m█\u001b[39m▆\u001b[39m█\u001b[34m█\u001b[39m\u001b[39m▆\u001b[39m▇\u001b[39m▄\u001b[39m▆\u001b[32m▁\u001b[39m\u001b[39m▇\u001b[39m█\u001b[39m▄\u001b[39m▃\u001b[39m▃\u001b[39m▄\u001b[39m▇\u001b[39m▄\u001b[39m▆\u001b[39m█\u001b[39m▆\u001b[39m▆\u001b[39m▇\u001b[39m▆\u001b[39m▆\u001b[39m█\u001b[39m█\u001b[39m█\u001b[39m█\u001b[39m▃\u001b[39m▇\u001b[39m▄\u001b[39m▃\u001b[39m▄\u001b[39m▃\u001b[39m▆\u001b[39m▄\u001b[39m▁\u001b[39m▃\u001b[39m▁\u001b[39m▁\u001b[39m▁\u001b[39m▁\u001b[39m▁\u001b[39m▃\u001b[39m▃\u001b[39m \u001b[39m▄\n",
       "  14.7 ms\u001b[90m         Histogram: frequency by time\u001b[39m        36.6 ms \u001b[0m\u001b[1m<\u001b[22m\n",
       "\n",
       " Memory estimate\u001b[90m: \u001b[39m\u001b[33m11.76 MiB\u001b[39m, allocs estimate\u001b[90m: \u001b[39m\u001b[33m18630\u001b[39m."
      ]
     },
     "execution_count": 6,
     "metadata": {},
     "output_type": "execute_result"
    }
   ],
   "source": [
    "@benchmark run_sandpileAbstract!(sandpile_initAbstract(x, y, \"random\"), N)"
   ]
  },
  {
   "cell_type": "code",
   "execution_count": 7,
   "id": "d7b3a1d3",
   "metadata": {},
   "outputs": [
    {
     "data": {
      "text/plain": [
       "BenchmarkTools.Trial: 226 samples with 1 evaluation.\n",
       " Range \u001b[90m(\u001b[39m\u001b[36m\u001b[1mmin\u001b[22m\u001b[39m … \u001b[35mmax\u001b[39m\u001b[90m):  \u001b[39m\u001b[36m\u001b[1m13.827 ms\u001b[22m\u001b[39m … \u001b[35m34.143 ms\u001b[39m  \u001b[90m┊\u001b[39m GC \u001b[90m(\u001b[39mmin … max\u001b[90m): \u001b[39m 0.00% … 32.62%\n",
       " Time  \u001b[90m(\u001b[39m\u001b[34m\u001b[1mmedian\u001b[22m\u001b[39m\u001b[90m):     \u001b[39m\u001b[34m\u001b[1m20.142 ms              \u001b[22m\u001b[39m\u001b[90m┊\u001b[39m GC \u001b[90m(\u001b[39mmedian\u001b[90m):    \u001b[39m 0.00%\n",
       " Time  \u001b[90m(\u001b[39m\u001b[32m\u001b[1mmean\u001b[22m\u001b[39m ± \u001b[32mσ\u001b[39m\u001b[90m):   \u001b[39m\u001b[32m\u001b[1m22.156 ms\u001b[22m\u001b[39m ± \u001b[32m 4.961 ms\u001b[39m  \u001b[90m┊\u001b[39m GC \u001b[90m(\u001b[39mmean ± σ\u001b[90m):  \u001b[39m14.54% ± 16.41%\n",
       "\n",
       "  \u001b[39m \u001b[39m \u001b[39m \u001b[39m \u001b[39m \u001b[39m \u001b[39m \u001b[39m \u001b[39m▂\u001b[39m \u001b[39m▄\u001b[39m▇\u001b[39m▁\u001b[39m█\u001b[39m▃\u001b[39m▃\u001b[39m█\u001b[39m▆\u001b[39m▃\u001b[39m▆\u001b[34m▁\u001b[39m\u001b[39m▁\u001b[39m \u001b[39m \u001b[39m \u001b[39m \u001b[32m \u001b[39m\u001b[39m \u001b[39m \u001b[39m \u001b[39m \u001b[39m \u001b[39m \u001b[39m \u001b[39m \u001b[39m \u001b[39m \u001b[39m \u001b[39m \u001b[39m \u001b[39m \u001b[39m \u001b[39m \u001b[39m▁\u001b[39m \u001b[39m \u001b[39m▁\u001b[39m \u001b[39m \u001b[39m \u001b[39m \u001b[39m \u001b[39m \u001b[39m \u001b[39m \u001b[39m \u001b[39m \u001b[39m \u001b[39m \u001b[39m \u001b[39m \n",
       "  \u001b[39m▄\u001b[39m▁\u001b[39m▁\u001b[39m▃\u001b[39m▃\u001b[39m▁\u001b[39m▆\u001b[39m▆\u001b[39m█\u001b[39m█\u001b[39m█\u001b[39m█\u001b[39m█\u001b[39m█\u001b[39m█\u001b[39m█\u001b[39m█\u001b[39m█\u001b[39m█\u001b[39m█\u001b[34m█\u001b[39m\u001b[39m█\u001b[39m█\u001b[39m▇\u001b[39m▄\u001b[39m▃\u001b[32m▇\u001b[39m\u001b[39m▄\u001b[39m▄\u001b[39m▃\u001b[39m▃\u001b[39m▁\u001b[39m▃\u001b[39m▃\u001b[39m▇\u001b[39m▁\u001b[39m▇\u001b[39m▆\u001b[39m▆\u001b[39m▄\u001b[39m▆\u001b[39m▆\u001b[39m█\u001b[39m█\u001b[39m▄\u001b[39m▇\u001b[39m█\u001b[39m▆\u001b[39m▆\u001b[39m▇\u001b[39m▃\u001b[39m▇\u001b[39m▇\u001b[39m▃\u001b[39m▃\u001b[39m▄\u001b[39m▁\u001b[39m▃\u001b[39m▆\u001b[39m \u001b[39m▄\n",
       "  13.8 ms\u001b[90m         Histogram: frequency by time\u001b[39m        32.9 ms \u001b[0m\u001b[1m<\u001b[22m\n",
       "\n",
       " Memory estimate\u001b[90m: \u001b[39m\u001b[33m12.41 MiB\u001b[39m, allocs estimate\u001b[90m: \u001b[39m\u001b[33m19731\u001b[39m."
      ]
     },
     "execution_count": 7,
     "metadata": {},
     "output_type": "execute_result"
    }
   ],
   "source": [
    "@benchmark run_sandpile64!(sandpile_init64(x, y, \"random\"), N)"
   ]
  },
  {
   "cell_type": "code",
   "execution_count": 8,
   "id": "cbf03007",
   "metadata": {},
   "outputs": [
    {
     "data": {
      "text/plain": [
       "BenchmarkTools.Trial: 224 samples with 1 evaluation.\n",
       " Range \u001b[90m(\u001b[39m\u001b[36m\u001b[1mmin\u001b[22m\u001b[39m … \u001b[35mmax\u001b[39m\u001b[90m):  \u001b[39m\u001b[36m\u001b[1m14.419 ms\u001b[22m\u001b[39m … \u001b[35m38.888 ms\u001b[39m  \u001b[90m┊\u001b[39m GC \u001b[90m(\u001b[39mmin … max\u001b[90m): \u001b[39m 0.00% … 32.01%\n",
       " Time  \u001b[90m(\u001b[39m\u001b[34m\u001b[1mmedian\u001b[22m\u001b[39m\u001b[90m):     \u001b[39m\u001b[34m\u001b[1m20.152 ms              \u001b[22m\u001b[39m\u001b[90m┊\u001b[39m GC \u001b[90m(\u001b[39mmedian\u001b[90m):    \u001b[39m 0.00%\n",
       " Time  \u001b[90m(\u001b[39m\u001b[32m\u001b[1mmean\u001b[22m\u001b[39m ± \u001b[32mσ\u001b[39m\u001b[90m):   \u001b[39m\u001b[32m\u001b[1m22.330 ms\u001b[22m\u001b[39m ± \u001b[32m 5.379 ms\u001b[39m  \u001b[90m┊\u001b[39m GC \u001b[90m(\u001b[39mmean ± σ\u001b[90m):  \u001b[39m14.26% ± 15.80%\n",
       "\n",
       "  \u001b[39m \u001b[39m \u001b[39m \u001b[39m \u001b[39m \u001b[39m \u001b[39m \u001b[39m▁\u001b[39m▁\u001b[39m▄\u001b[39m▂\u001b[39m▄\u001b[39m \u001b[39m▃\u001b[39m█\u001b[39m \u001b[39m \u001b[34m \u001b[39m\u001b[39m \u001b[39m \u001b[39m▃\u001b[39m \u001b[39m \u001b[32m \u001b[39m\u001b[39m \u001b[39m \u001b[39m \u001b[39m \u001b[39m \u001b[39m \u001b[39m \u001b[39m \u001b[39m \u001b[39m \u001b[39m \u001b[39m \u001b[39m \u001b[39m \u001b[39m \u001b[39m \u001b[39m \u001b[39m \u001b[39m \u001b[39m \u001b[39m \u001b[39m \u001b[39m \u001b[39m \u001b[39m \u001b[39m \u001b[39m \u001b[39m \u001b[39m \u001b[39m \u001b[39m \u001b[39m \u001b[39m \u001b[39m \u001b[39m \u001b[39m \u001b[39m \n",
       "  \u001b[39m▄\u001b[39m▃\u001b[39m▄\u001b[39m▃\u001b[39m▅\u001b[39m▆\u001b[39m▄\u001b[39m█\u001b[39m█\u001b[39m█\u001b[39m█\u001b[39m█\u001b[39m█\u001b[39m█\u001b[39m█\u001b[39m▆\u001b[39m█\u001b[34m▅\u001b[39m\u001b[39m▆\u001b[39m▄\u001b[39m█\u001b[39m▄\u001b[39m▄\u001b[32m▄\u001b[39m\u001b[39m▃\u001b[39m▃\u001b[39m▃\u001b[39m▁\u001b[39m▁\u001b[39m▄\u001b[39m▄\u001b[39m▃\u001b[39m▄\u001b[39m▄\u001b[39m▅\u001b[39m▄\u001b[39m▄\u001b[39m▄\u001b[39m▄\u001b[39m▄\u001b[39m▆\u001b[39m▆\u001b[39m▇\u001b[39m▅\u001b[39m▄\u001b[39m▃\u001b[39m▄\u001b[39m▄\u001b[39m▄\u001b[39m▄\u001b[39m▄\u001b[39m▄\u001b[39m▄\u001b[39m▁\u001b[39m▃\u001b[39m▄\u001b[39m▁\u001b[39m▃\u001b[39m▃\u001b[39m \u001b[39m▄\n",
       "  14.4 ms\u001b[90m         Histogram: frequency by time\u001b[39m        34.6 ms \u001b[0m\u001b[1m<\u001b[22m\n",
       "\n",
       " Memory estimate\u001b[90m: \u001b[39m\u001b[33m12.62 MiB\u001b[39m, allocs estimate\u001b[90m: \u001b[39m\u001b[33m20148\u001b[39m."
      ]
     },
     "execution_count": 8,
     "metadata": {},
     "output_type": "execute_result"
    }
   ],
   "source": [
    "@benchmark run_sandpile!(sandpile_init(x, y, \"random\"), N)"
   ]
  },
  {
   "cell_type": "markdown",
   "id": "5ee7db2a",
   "metadata": {},
   "source": [
    "## Type Stability of Functions"
   ]
  },
  {
   "cell_type": "code",
   "execution_count": 9,
   "id": "ec5d1d8f",
   "metadata": {},
   "outputs": [
    {
     "name": "stdout",
     "output_type": "stream",
     "text": [
      "MethodInstance for Main.Sandpile.sandpile_init(::Int64, ::Int64, ::String)\n",
      "  from sandpile_init(x::Int64, y::Int64, setup::String) in Main.Sandpile at /Users/raaromero/sandpile-julia/code/Sandpile.jl:17\n",
      "Arguments\n",
      "  #self#\u001b[36m::Core.Const(Main.Sandpile.sandpile_init)\u001b[39m\n",
      "  x\u001b[36m::Int64\u001b[39m\n",
      "  y\u001b[36m::Int64\u001b[39m\n",
      "  setup\u001b[36m::String\u001b[39m\n",
      "Body\u001b[36m::Matrix{UInt8}\u001b[39m\n",
      "\u001b[90m1 ─\u001b[39m %1  = (setup == \"random\")\u001b[36m::Bool\u001b[39m\n",
      "\u001b[90m└──\u001b[39m       goto #3 if not %1\n",
      "\u001b[90m2 ─\u001b[39m %3  = Core.apply_type(Main.Sandpile.Array, Main.Sandpile.UInt8)\u001b[36m::Core.Const(Array{UInt8})\u001b[39m\n",
      "\u001b[90m│  \u001b[39m %4  = (0:3)\u001b[36m::Core.Const(0:3)\u001b[39m\n",
      "\u001b[90m│  \u001b[39m %5  = Main.Sandpile.rand(%4, x, y)\u001b[36m::Matrix{Int64}\u001b[39m\n",
      "\u001b[90m│  \u001b[39m %6  = Main.Sandpile.convert(%3, %5)\u001b[36m::Matrix{UInt8}\u001b[39m\n",
      "\u001b[90m└──\u001b[39m       return %6\n",
      "\u001b[90m3 ─\u001b[39m %8  = (setup == \"zero\")\u001b[36m::Bool\u001b[39m\n",
      "\u001b[90m└──\u001b[39m       goto #5 if not %8\n",
      "\u001b[90m4 ─\u001b[39m %10 = Main.Sandpile.zeros(Main.Sandpile.UInt8, x, y)\u001b[36m::Matrix{UInt8}\u001b[39m\n",
      "\u001b[90m└──\u001b[39m       return %10\n",
      "\u001b[90m5 ─\u001b[39m       Main.Sandpile.error(\"`setup` must have value of `random` or `zero`\")\n",
      "\u001b[90m└──\u001b[39m       Core.Const(:(return %12))\n",
      "\n"
     ]
    }
   ],
   "source": [
    "@code_warntype sandpile_init(x, y, \"zero\")"
   ]
  },
  {
   "cell_type": "code",
   "execution_count": 10,
   "id": "caad08e6",
   "metadata": {},
   "outputs": [
    {
     "name": "stdout",
     "output_type": "stream",
     "text": [
      "MethodInstance for Main.Sandpile.add_grain!(::Matrix{UInt8})\n",
      "  from add_grain!(z::Matrix{UInt8}) in Main.Sandpile at /Users/raaromero/sandpile-julia/code/Sandpile.jl:38\n",
      "Arguments\n",
      "  #self#\u001b[36m::Core.Const(Main.Sandpile.add_grain!)\u001b[39m\n",
      "  z\u001b[36m::Matrix{UInt8}\u001b[39m\n",
      "Body\u001b[36m::Int64\u001b[39m\n",
      "\u001b[90m1 ─\u001b[39m %1  = Main.Sandpile.size(z)\u001b[36m::Tuple{Int64, Int64}\u001b[39m\n",
      "\u001b[90m│  \u001b[39m %2  = Base.getindex(%1, 1)\u001b[36m::Int64\u001b[39m\n",
      "\u001b[90m│  \u001b[39m %3  = (1:%2)\u001b[36m::Core.PartialStruct(UnitRange{Int64}, Any[Core.Const(1), Int64])\u001b[39m\n",
      "\u001b[90m│  \u001b[39m %4  = Main.Sandpile.rand(%3)\u001b[36m::Int64\u001b[39m\n",
      "\u001b[90m│  \u001b[39m %5  = Main.Sandpile.size(z)\u001b[36m::Tuple{Int64, Int64}\u001b[39m\n",
      "\u001b[90m│  \u001b[39m %6  = Base.getindex(%5, 2)\u001b[36m::Int64\u001b[39m\n",
      "\u001b[90m│  \u001b[39m %7  = (1:%6)\u001b[36m::Core.PartialStruct(UnitRange{Int64}, Any[Core.Const(1), Int64])\u001b[39m\n",
      "\u001b[90m│  \u001b[39m %8  = Main.Sandpile.rand(%7)\u001b[36m::Int64\u001b[39m\n",
      "\u001b[90m│  \u001b[39m %9  = Base.getindex(z, %4, %8)\u001b[36m::UInt8\u001b[39m\n",
      "\u001b[90m│  \u001b[39m %10 = (%9 + 1)\u001b[36m::Int64\u001b[39m\n",
      "\u001b[90m│  \u001b[39m       Base.setindex!(z, %10, %4, %8)\n",
      "\u001b[90m└──\u001b[39m       return %10\n",
      "\n"
     ]
    }
   ],
   "source": [
    "@code_warntype add_grain!(sandpile_init(x, y, \"zero\"))"
   ]
  },
  {
   "cell_type": "code",
   "execution_count": 11,
   "id": "7b18112d",
   "metadata": {},
   "outputs": [
    {
     "name": "stdout",
     "output_type": "stream",
     "text": [
      "MethodInstance for Main.Sandpile.is_unstable(::Matrix{UInt8})\n",
      "  from is_unstable(z::Matrix{UInt8}) in Main.Sandpile at /Users/raaromero/sandpile-julia/code/Sandpile.jl:48\n",
      "Arguments\n",
      "  #self#\u001b[36m::Core.Const(Main.Sandpile.is_unstable)\u001b[39m\n",
      "  z\u001b[36m::Matrix{UInt8}\u001b[39m\n",
      "Body\u001b[36m::Bool\u001b[39m\n",
      "\u001b[90m1 ─\u001b[39m %1 = (#self#)(z, 4)\u001b[36m::Bool\u001b[39m\n",
      "\u001b[90m└──\u001b[39m      return %1\n",
      "\n"
     ]
    }
   ],
   "source": [
    "@code_warntype is_unstable(sandpile_init(x, y, \"zero\"))"
   ]
  },
  {
   "cell_type": "code",
   "execution_count": 12,
   "id": "a97d0169",
   "metadata": {},
   "outputs": [
    {
     "name": "stdout",
     "output_type": "stream",
     "text": [
      "MethodInstance for Main.Sandpile.avalanche!(::Matrix{UInt8})\n",
      "  from avalanche!(z::Matrix{UInt8}) in Main.Sandpile at /Users/raaromero/sandpile-julia/code/Sandpile.jl:68\n",
      "Arguments\n",
      "  #self#\u001b[36m::Core.Const(Main.Sandpile.avalanche!)\u001b[39m\n",
      "  z\u001b[36m::Matrix{UInt8}\u001b[39m\n",
      "Body\u001b[36m::UInt8\u001b[39m\n",
      "\u001b[90m1 ─\u001b[39m %1 = (#self#)(z, 4)\u001b[36m::UInt8\u001b[39m\n",
      "\u001b[90m└──\u001b[39m      return %1\n",
      "\n"
     ]
    }
   ],
   "source": [
    "@code_warntype avalanche!(sandpile_init(x, y, \"zero\"))"
   ]
  },
  {
   "cell_type": "code",
   "execution_count": 13,
   "id": "35f0c432",
   "metadata": {},
   "outputs": [
    {
     "name": "stdout",
     "output_type": "stream",
     "text": [
      "MethodInstance for Main.Sandpile.run_sandpile!(::Matrix{UInt8}, ::Int64)\n",
      "  from run_sandpile!(z::Matrix{UInt8}, N::Int64; N_crit, fᵪ) in Main.Sandpile at /Users/raaromero/sandpile-julia/code/Sandpile.jl:102\n",
      "Arguments\n",
      "  #self#\u001b[36m::Core.Const(Main.Sandpile.run_sandpile!)\u001b[39m\n",
      "  z\u001b[36m::Matrix{UInt8}\u001b[39m\n",
      "  N\u001b[36m::Int64\u001b[39m\n",
      "Body\u001b[36m::Vector{Int64}\u001b[39m\n",
      "\u001b[90m1 ─\u001b[39m %1 = Main.Sandpile.:(var\"#run_sandpile!#1\")(false, 4, #self#, z, N)\u001b[36m::Vector{Int64}\u001b[39m\n",
      "\u001b[90m└──\u001b[39m      return %1\n",
      "\n"
     ]
    }
   ],
   "source": [
    "@code_warntype run_sandpile!(sandpile_init(x, y, \"zero\"), 100_000)"
   ]
  },
  {
   "cell_type": "code",
   "execution_count": null,
   "id": "9582ae14",
   "metadata": {},
   "outputs": [],
   "source": []
  }
 ],
 "metadata": {
  "kernelspec": {
   "display_name": "Julia 1.7.1",
   "language": "julia",
   "name": "julia-1.7"
  },
  "language_info": {
   "file_extension": ".jl",
   "mimetype": "application/julia",
   "name": "julia",
   "version": "1.7.1"
  }
 },
 "nbformat": 4,
 "nbformat_minor": 5
}
